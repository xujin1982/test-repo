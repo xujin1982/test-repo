{
 "cells": [
  {
   "cell_type": "markdown",
   "metadata": {},
   "source": [
    "# sqrt(x)"
   ]
  },
  {
   "cell_type": "code",
   "execution_count": 4,
   "metadata": {},
   "outputs": [
    {
     "name": "stdout",
     "output_type": "stream",
     "text": [
      "sqrt(0.1):0.316227766017\n",
      "sqrt(1e-20):1e-20\n",
      "sqrt(10):3.16227766017\n",
      "sqrt(-1): False\n"
     ]
    }
   ],
   "source": [
    "import numpy as np\n",
    "\n",
    "def Sqrt(x):\n",
    "    if x > 0.0:\n",
    "        a = 0.0\n",
    "        b = x\n",
    "        while (np.abs(a - b) > 1e-15):\n",
    "            a = (a + b) / 2.0\n",
    "            b = x / a\n",
    "        return b       \n",
    "    elif np.abs(x) < 1e-15:\n",
    "        return np.abs(x)\n",
    "    else:\n",
    "        return False\n",
    "        \n",
    "if __name__ == \"__main__\":\n",
    "    for x in [0.1, 1e-20, 10]:\n",
    "        print 'sqrt({0}):{1}'.format(x, Sqrt(x))\n",
    "    print 'sqrt(-1):', Sqrt(-1)"
   ]
  },
  {
   "cell_type": "markdown",
   "metadata": {},
   "source": [
    "# Flood Fill"
   ]
  },
  {
   "cell_type": "code",
   "execution_count": 274,
   "metadata": {
    "collapsed": true
   },
   "outputs": [],
   "source": [
    "def Flood_Fill_Area(image,IMG_W, IMG_H, visited):\n",
    "    for point in visited:\n",
    "        start_x = point % IMG_W\n",
    "        start_y = point / IMG_W\n",
    "        next_points = next_point(image,start_x,start_y,IMG_W, IMG_H)\n",
    "        next_points_copy = next_points[:]    \n",
    "        for point in next_points:\n",
    "            if point in visited:\n",
    "                next_points_copy.remove(point)\n",
    "        if next_points_copy != []:\n",
    "            for point in next_points_copy:\n",
    "                visited.append(point)\n",
    "                return Flood_Fill_Area(image,IMG_W, IMG_H, visited)\n",
    "    return visited"
   ]
  },
  {
   "cell_type": "code",
   "execution_count": 275,
   "metadata": {
    "collapsed": true
   },
   "outputs": [],
   "source": [
    "def next_point(image,start_x,start_y,IMG_W, IMG_H):\n",
    "    \"\"\"\n",
    "    Find the point next to the start point with same color\n",
    "    \"\"\"\n",
    "    loc = start_x + start_y * IMG_W\n",
    "    loc_color = image[loc] \n",
    "    temp = []\n",
    "    if ((start_x < IMG_W-1) & (image[loc+1] == loc_color)):\n",
    "        temp.append(loc+1) # move right\n",
    "    if ((start_y < IMG_H-1) & (image[loc+IMG_W] == loc_color)):\n",
    "        temp.append(loc+IMG_W) # move down\n",
    "    if ((start_x > 0) & (image[loc-1] == loc_color)):\n",
    "        temp.append(loc-1) # move left\n",
    "    if ((start_y > 0) & (image[loc-IMG_H] == loc_color)):\n",
    "        temp.append(loc-IMG_H) # move up\n",
    "    return temp"
   ]
  },
  {
   "cell_type": "code",
   "execution_count": 276,
   "metadata": {
    "collapsed": true
   },
   "outputs": [],
   "source": [
    "def Flood_Fill(img_array,start_x,start_y,IMG_W,IMG_H,target_color):\n",
    "    loc = start_x + start_y * IMG_W\n",
    "    visited = [loc]\n",
    "    visited = Flood_Fill_Area(img_array,IMG_W, IMG_H, visited)\n",
    "    img_array_1 = img_array[:]\n",
    "    for x in visited:\n",
    "        img_array_1[x] = target_color\n",
    "    f = []\n",
    "    for i in range(0,len(img_array_1),IMG_W):\n",
    "        f.append(img_array_1[i:i+127])\n",
    "    return f"
   ]
  },
  {
   "cell_type": "code",
   "execution_count": 277,
   "metadata": {},
   "outputs": [
    {
     "data": {
      "image/png": "[encoded data removed]",
      "text/plain": [
       "<matplotlib.figure.Figure at 0xb509048>"
      ]
     },
     "metadata": {},
     "output_type": "display_data"
    }
   ],
   "source": [
    "from PIL import Image\n",
    "import matplotlib.pyplot as plt\n",
    "%matplotlib inline\n",
    "img = Image.open('Gray.bmp').convert(\"L\")\n",
    "plt.imshow(img,cmap='gray')\n",
    "imgrr = np.asarray(img)"
   ]
  },
  {
   "cell_type": "code",
   "execution_count": 278,
   "metadata": {
    "collapsed": true
   },
   "outputs": [],
   "source": [
    "# numpy array\n",
    "# IMG_W = 200\n",
    "# IMG_H = 200\n",
    "\n",
    "IMG_W = len(imgrr[0])\n",
    "IMG_H = len(imgrr)\n",
    "img_array = []\n",
    "for x in imgrr:\n",
    "    img_array.extend(x)"
   ]
  },
  {
   "cell_type": "code",
   "execution_count": 279,
   "metadata": {},
   "outputs": [
    {
     "data": {
      "text/plain": [
       "<matplotlib.image.AxesImage at 0xbe385f8>"
      ]
     },
     "execution_count": 279,
     "metadata": {},
     "output_type": "execute_result"
    },
    {
     "data": {
      "image/png": "[encoded data removed]",
      "text/plain": [
       "<matplotlib.figure.Figure at 0xb3bab38>"
      ]
     },
     "metadata": {},
     "output_type": "display_data"
    }
   ],
   "source": [
    "start_x = 70\n",
    "start_y = 50\n",
    "target_color = 0\n",
    "plt.imshow(Flood_Fill(img_array,start_x,start_y,IMG_W,IMG_H,target_color),cmap='gray')"
   ]
  },
  {
   "cell_type": "code",
   "execution_count": 280,
   "metadata": {},
   "outputs": [
    {
     "data": {
      "text/plain": [
       "<matplotlib.image.AxesImage at 0xc0db588>"
      ]
     },
     "execution_count": 280,
     "metadata": {},
     "output_type": "execute_result"
    },
    {
     "data": {
      "image/png": "[encoded data removed]",
      "text/plain": [
       "<matplotlib.figure.Figure at 0xa113be0>"
      ]
     },
     "metadata": {},
     "output_type": "display_data"
    }
   ],
   "source": [
    "start_x = 50\n",
    "start_y = 50\n",
    "target_color = 0\n",
    "plt.imshow(Flood_Fill(img_array,start_x,start_y,IMG_W,IMG_H,target_color),cmap='gray')"
   ]
  },
  {
   "cell_type": "code",
   "execution_count": 281,
   "metadata": {},
   "outputs": [
    {
     "data": {
      "text/plain": [
       "<matplotlib.image.AxesImage at 0xc153518>"
      ]
     },
     "execution_count": 281,
     "metadata": {},
     "output_type": "execute_result"
    },
    {
     "data": {
      "image/png": "[encoded data removed]",
      "text/plain": [
       "<matplotlib.figure.Figure at 0xa486400>"
      ]
     },
     "metadata": {},
     "output_type": "display_data"
    }
   ],
   "source": [
    "start_x = 50\n",
    "start_y = 30\n",
    "target_color = 0\n",
    "plt.imshow(Flood_Fill(img_array,start_x,start_y,IMG_W,IMG_H,target_color),cmap='gray')"
   ]
  },
  {
   "cell_type": "code",
   "execution_count": null,
   "metadata": {
    "collapsed": true
   },
   "outputs": [],
   "source": []
  }
 ],
 "metadata": {
  "kernelspec": {
   "display_name": "Python 2",
   "language": "python",
   "name": "python2"
  },
  "language_info": {
   "codemirror_mode": {
    "name": "ipython",
    "version": 2
   },
   "file_extension": ".py",
   "mimetype": "text/x-python",
   "name": "python",
   "nbconvert_exporter": "python",
   "pygments_lexer": "ipython2",
   "version": "2.7.13"
  }
 },
 "nbformat": 4,
 "nbformat_minor": 2
}
